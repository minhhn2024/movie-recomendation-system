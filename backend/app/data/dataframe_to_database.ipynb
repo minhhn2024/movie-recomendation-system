{
 "cells": [
  {
   "metadata": {
    "ExecuteTime": {
     "end_time": "2025-05-11T12:46:28.874818Z",
     "start_time": "2025-05-11T12:46:28.860880Z"
    }
   },
   "cell_type": "code",
   "source": [
    "from sqlalchemy import create_engine\n",
    "import pandas as pd\n",
    "import numpy as np\n",
    "import ast\n",
    "\n",
    "\n",
    "# Cấu hình kết nối (bạn thay thông tin cho đúng)\n",
    "db_user = 'postgres'\n",
    "db_password = 'changethis'\n",
    "db_host = 'localhost'\n",
    "db_port = '5432'\n",
    "db_name = 'app'\n",
    "\n",
    "# Tạo connection\n",
    "engine = create_engine(f'postgresql+psycopg2://{db_user}:{db_password}@{db_host}:{db_port}/{db_name}')\n"
   ],
   "id": "324b3e4a9a094b1",
   "outputs": [],
   "execution_count": 4
  },
  {
   "cell_type": "code",
   "id": "initial_id",
   "metadata": {
    "collapsed": true,
    "ExecuteTime": {
     "end_time": "2025-04-27T06:52:08.628199Z",
     "start_time": "2025-04-27T06:51:41.974870Z"
    }
   },
   "source": [
    "\n",
    "df = pd.read_csv('./movies_metadata.csv', low_memory=False)\n",
    "df = df.drop([19730, 29503, 35587])\n",
    "\n",
    "columns_keep = [\n",
    "    'id', 'title', 'original_title', 'belongs_to_collection', 'original_language', 'release_date', 'status',\n",
    "    'overview', 'tagline', 'adult', 'popularity', 'homepage', 'poster_path',\n",
    "    'runtime', 'budget', 'revenue', 'vote_average', 'vote_count'\n",
    "]\n",
    "df = df[columns_keep]\n",
    "\n",
    "df = df.replace({np.nan: None})\n",
    "\n",
    "df = df.drop_duplicates(subset=['id'], keep='first')\n",
    "\n",
    "df['release_date'] = pd.to_datetime(df['release_date'], errors='coerce').dt.date\n",
    "df['popularity'] = pd.to_numeric(df['popularity'], errors='coerce')\n",
    "df['runtime'] = pd.to_numeric(df['runtime'], errors='coerce').fillna(0).astype('Int64')\n",
    "df['budget'] = pd.to_numeric(df['budget'], errors='coerce').fillna(0).astype('Int64')\n",
    "df['revenue'] = pd.to_numeric(df['revenue'], errors='coerce').fillna(0).astype('Int64')\n",
    "df['vote_average'] = pd.to_numeric(df['vote_average'], errors='coerce')\n",
    "df['vote_count'] = pd.to_numeric(df['vote_count'], errors='coerce').fillna(0).astype('Int64')\n",
    "df['belongs_to_collection'] = df['belongs_to_collection'].fillna('').apply(\n",
    "    lambda x: ast.literal_eval(x) if isinstance(x, str) and x != '' else np.nan\n",
    ").apply(\n",
    "    lambda x: x['name'] if isinstance(x, dict) and 'name' in x else ''\n",
    ")\n",
    "\n",
    "\n",
    "# 6. Insert vào database\n",
    "with engine.begin() as connection:\n",
    "    df.to_sql('stg_movie_metadata', con=connection, if_exists='append', index=False, method='multi')\n",
    "\n",
    "print(\"✅ Insert thành công!\")\n"
   ],
   "outputs": [
    {
     "name": "stdout",
     "output_type": "stream",
     "text": [
      "✅ Insert thành công!\n"
     ]
    }
   ],
   "execution_count": 12
  },
  {
   "metadata": {
    "ExecuteTime": {
     "end_time": "2025-04-27T04:17:04.328471Z",
     "start_time": "2025-04-27T04:16:56.207159Z"
    }
   },
   "cell_type": "code",
   "source": [
    "\n",
    "md = pd.read_csv('./movies_metadata.csv', low_memory=False)\n",
    "md = md.drop([19730, 29503, 35587])\n",
    "\n",
    "genres = md[['id', 'genres']].copy()\n",
    "\n",
    "genres['genres'] = genres['genres'].apply(ast.literal_eval)\n",
    "\n",
    "genres.rename(columns={'id': 'movie_id'}, inplace=True)\n",
    "\n",
    "rows = []\n",
    "for idx, row in genres.iterrows():\n",
    "    movie_id = row['movie_id']\n",
    "    for genre in row['genres']:\n",
    "        rows.append({'movie_id': movie_id, 'genre': genre['name']})\n",
    "\n",
    "genres = pd.DataFrame(rows)\n",
    "genres[\"key_id\"] = genres.index + 1\n",
    "\n",
    "with engine.begin() as connection:\n",
    "    genres[[\"key_id\", \"movie_id\", \"genre\"]].to_sql('stg_genre', con=connection, if_exists='append', index=False, method='multi')\n",
    "\n",
    "print(\"✅ Insert bảng movie_genres thành công!\")"
   ],
   "id": "e5114065fb6eb40b",
   "outputs": [
    {
     "name": "stdout",
     "output_type": "stream",
     "text": [
      "✅ Insert bảng movie_genres thành công!\n"
     ]
    }
   ],
   "execution_count": 23
  },
  {
   "metadata": {
    "ExecuteTime": {
     "end_time": "2025-04-27T04:43:09.391939Z",
     "start_time": "2025-04-27T04:42:56.995120Z"
    }
   },
   "cell_type": "code",
   "source": [
    "md = pd.read_csv('./movies_metadata.csv', low_memory=False)\n",
    "md = md.drop([19730, 29503, 35587])\n",
    "md['id'] = md['id'].astype('int')\n",
    "keywords = pd.read_csv('./keywords.csv')\n",
    "keywords['id'] = keywords['id'].astype('int')\n",
    "md = md.merge(keywords, on='id')\n",
    "md['keywords'] = md['keywords'].apply(ast.literal_eval)\n",
    "md['keywords'] = md['keywords'].apply(lambda x: [i['name'] for i in x] if isinstance(x, list) else [])\n",
    "\n",
    "rows = []\n",
    "for idx, row in md.iterrows():\n",
    "    movie_id = row['id']\n",
    "    for keyword in row['keywords']:\n",
    "        rows.append({'movie_id': movie_id, 'keyword': keyword})\n",
    "\n",
    "keywords = pd.DataFrame(rows)\n",
    "keywords[\"key_id\"] = keywords.index + 1\n",
    "\n",
    "with engine.begin() as connection:\n",
    "    keywords[[\"key_id\", \"movie_id\", \"keyword\"]].to_sql('stg_keyword', con=connection, if_exists='append', index=False, method='multi')\n",
    "\n",
    "print(\"✅ Insert bảng stg_keyword thành công!\")"
   ],
   "id": "8aefba5f64a59d20",
   "outputs": [
    {
     "name": "stdout",
     "output_type": "stream",
     "text": [
      "✅ Insert bảng movie_genres thành công!\n"
     ]
    }
   ],
   "execution_count": 32
  },
  {
   "metadata": {
    "ExecuteTime": {
     "end_time": "2025-04-27T06:46:22.593346Z",
     "start_time": "2025-04-27T06:45:19.167505Z"
    }
   },
   "cell_type": "code",
   "source": [
    "md = pd.read_csv('./movies_metadata.csv', low_memory=False)\n",
    "md = md.drop([19730, 29503, 35587])\n",
    "\n",
    "credits = pd.read_csv('./credits.csv')\n",
    "md['id'] = md['id'].astype('int')\n",
    "credits['id'] = credits['id'].astype('int')\n",
    "md = md.merge(credits, on='id')\n",
    "\n",
    "def get_director(x):\n",
    "    for i in x:\n",
    "        if i['job'] == 'Director':\n",
    "            return i['name']\n",
    "    return np.nan\n",
    "\n",
    "md['cast'] = md['cast'].apply(ast.literal_eval)\n",
    "md['cast'] = md['cast'].apply(lambda x: [i['name'] for i in x] if isinstance(x, list) else [])\n",
    "md['cast'] = md['cast'].apply(lambda x: x[:3] if len(x) >=3 else x)\n",
    "md['crew'] = md['crew'].apply(ast.literal_eval)\n",
    "md['director'] = md['crew'].apply(get_director).fillna('')\n",
    "\n",
    "md[[\"id\", 'cast', 'crew', 'director']].head()\n",
    "md['movie_id'] = md['id']\n",
    "\n",
    "rows = []\n",
    "for idx, row in md.iterrows():\n",
    "    movie_id = row['id']\n",
    "    for cast in row['cast']:\n",
    "        rows.append({'movie_id': movie_id, 'name': cast, 'role': 'cast'})\n",
    "    rows.append({'movie_id': movie_id, 'name': row['director'], 'role': 'director'})\n",
    "\n",
    "\n",
    "produce = pd.DataFrame(rows)\n",
    "produce[\"key_id\"] = produce.index + 1\n",
    "\n",
    "with engine.begin() as connection:\n",
    "    produce[[\"key_id\", \"movie_id\", \"name\", \"role\"]].to_sql('stg_cast', con=connection, if_exists='append', index=False, method='multi')\n",
    "\n",
    "print(\"✅ Insert bảng stg_cast thành công!\")"
   ],
   "id": "243fe5ac99b006d6",
   "outputs": [
    {
     "name": "stdout",
     "output_type": "stream",
     "text": [
      "✅ Insert bảng stg_cast thành công!\n"
     ]
    }
   ],
   "execution_count": 8
  },
  {
   "metadata": {
    "ExecuteTime": {
     "end_time": "2025-04-28T01:57:03.010701Z",
     "start_time": "2025-04-28T01:56:55.953954Z"
    }
   },
   "cell_type": "code",
   "source": [
    "rating = pd.read_csv('./ratings.csv')\n",
    "rating.rename(columns={\"movieId\": \"movie_id\", \"userId\": \"user_id\"}, inplace=True)\n",
    "rating['timestamp'] = pd.to_datetime(rating['timestamp'], unit='s')\n",
    "rating[\"key_id\"] = rating.index + 1\n",
    "rating.head()"
   ],
   "id": "494fc3d9236b5a06",
   "outputs": [
    {
     "data": {
      "text/plain": [
       "   user_id  movie_id  rating           timestamp  key_id\n",
       "0        1       110     1.0 2015-03-09 22:52:09       1\n",
       "1        1       147     4.5 2015-03-09 23:07:15       2\n",
       "2        1       858     5.0 2015-03-09 22:52:03       3\n",
       "3        1      1221     5.0 2015-03-09 22:52:26       4\n",
       "4        1      1246     5.0 2015-03-09 22:52:36       5"
      ],
      "text/html": [
       "<div>\n",
       "<style scoped>\n",
       "    .dataframe tbody tr th:only-of-type {\n",
       "        vertical-align: middle;\n",
       "    }\n",
       "\n",
       "    .dataframe tbody tr th {\n",
       "        vertical-align: top;\n",
       "    }\n",
       "\n",
       "    .dataframe thead th {\n",
       "        text-align: right;\n",
       "    }\n",
       "</style>\n",
       "<table border=\"1\" class=\"dataframe\">\n",
       "  <thead>\n",
       "    <tr style=\"text-align: right;\">\n",
       "      <th></th>\n",
       "      <th>user_id</th>\n",
       "      <th>movie_id</th>\n",
       "      <th>rating</th>\n",
       "      <th>timestamp</th>\n",
       "      <th>key_id</th>\n",
       "    </tr>\n",
       "  </thead>\n",
       "  <tbody>\n",
       "    <tr>\n",
       "      <th>0</th>\n",
       "      <td>1</td>\n",
       "      <td>110</td>\n",
       "      <td>1.0</td>\n",
       "      <td>2015-03-09 22:52:09</td>\n",
       "      <td>1</td>\n",
       "    </tr>\n",
       "    <tr>\n",
       "      <th>1</th>\n",
       "      <td>1</td>\n",
       "      <td>147</td>\n",
       "      <td>4.5</td>\n",
       "      <td>2015-03-09 23:07:15</td>\n",
       "      <td>2</td>\n",
       "    </tr>\n",
       "    <tr>\n",
       "      <th>2</th>\n",
       "      <td>1</td>\n",
       "      <td>858</td>\n",
       "      <td>5.0</td>\n",
       "      <td>2015-03-09 22:52:03</td>\n",
       "      <td>3</td>\n",
       "    </tr>\n",
       "    <tr>\n",
       "      <th>3</th>\n",
       "      <td>1</td>\n",
       "      <td>1221</td>\n",
       "      <td>5.0</td>\n",
       "      <td>2015-03-09 22:52:26</td>\n",
       "      <td>4</td>\n",
       "    </tr>\n",
       "    <tr>\n",
       "      <th>4</th>\n",
       "      <td>1</td>\n",
       "      <td>1246</td>\n",
       "      <td>5.0</td>\n",
       "      <td>2015-03-09 22:52:36</td>\n",
       "      <td>5</td>\n",
       "    </tr>\n",
       "  </tbody>\n",
       "</table>\n",
       "</div>"
      ]
     },
     "execution_count": 2,
     "metadata": {},
     "output_type": "execute_result"
    }
   ],
   "execution_count": 2
  },
  {
   "metadata": {
    "ExecuteTime": {
     "end_time": "2025-05-11T12:46:57.358584Z",
     "start_time": "2025-05-11T12:46:52.125235Z"
    }
   },
   "cell_type": "code",
   "source": [
    "links = pd.read_csv('./links.csv')\n",
    "links.rename(columns={\"movieId\": \"movie_id\", \"imdbId\": \"imdb_id\", \"tmdbId\": \"tmdb_id\"}, inplace=True)\n",
    "\n",
    "with engine.begin() as connection:\n",
    "    links.to_sql('stg_links', con=connection, if_exists='append', index=False, method='multi')\n",
    "\n",
    "print(\"✅ Insert stg_links thành công!\")\n"
   ],
   "id": "9378d980d1d3c527",
   "outputs": [
    {
     "name": "stdout",
     "output_type": "stream",
     "text": [
      "✅ Insert stg_links thành công!\n"
     ]
    }
   ],
   "execution_count": 6
  },
  {
   "metadata": {},
   "cell_type": "code",
   "outputs": [],
   "execution_count": null,
   "source": "",
   "id": "35f1efe68b3989e6"
  }
 ],
 "metadata": {
  "kernelspec": {
   "display_name": "Python 3",
   "language": "python",
   "name": "python3"
  },
  "language_info": {
   "codemirror_mode": {
    "name": "ipython",
    "version": 2
   },
   "file_extension": ".py",
   "mimetype": "text/x-python",
   "name": "python",
   "nbconvert_exporter": "python",
   "pygments_lexer": "ipython2",
   "version": "2.7.6"
  }
 },
 "nbformat": 4,
 "nbformat_minor": 5
}
